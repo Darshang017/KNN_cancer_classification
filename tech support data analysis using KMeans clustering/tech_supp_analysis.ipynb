{
 "cells": [
  {
   "cell_type": "markdown",
   "metadata": {
    "colab_type": "text",
    "id": "8OQfbkF2qf5W"
   },
   "source": [
    " #  <p style=\"text-align: center;\">Technical Support Data Analysis"
   ]
  },
  {
   "cell_type": "markdown",
   "metadata": {
    "colab_type": "text",
    "id": "h1CyfJ0yqf5Z"
   },
   "source": [
    "Technical support data can often be a rich source of information on opportunities for improving customer experience. The lesser the trouble customers have with the product the better. Even better when the customers are able to overcome\n",
    "technical challenge quickly with minimal effort. Let us analyze the tech support data and do some basic analysis on problem types, time to resolve the problem and channel of support that is most suitable"
   ]
  },
  {
   "cell_type": "markdown",
   "metadata": {
    "colab_type": "text",
    "id": "ozpdWvkQqf5b"
   },
   "source": [
    "## Loading the Dataset"
   ]
  },
  {
   "cell_type": "code",
   "execution_count": 5,
   "metadata": {
    "colab": {},
    "colab_type": "code",
    "id": "-S9w2oBpqf5d",
    "outputId": "1c586e99-a114-4744-f627-0886fe5f76d9"
   },
   "outputs": [
    {
     "data": {
      "text/plain": [
       "PROBLEM_TYPE              object\n",
       "no_of_cases                int64\n",
       "Avg_pending_calls        float64\n",
       "Avg_resol_time             int64\n",
       "recurrence_freq          float64\n",
       "Replace_percent          float64\n",
       "In_warranty_percent        int64\n",
       "Post_warranty_percent      int64\n",
       "dtype: object"
      ]
     },
     "execution_count": 5,
     "metadata": {},
     "output_type": "execute_result"
    }
   ],
   "source": [
    "%matplotlib inline\n",
    "\n",
    "import pandas as pd\n",
    "import numpy as np\n",
    "import matplotlib.pylab as plt\n",
    "from sklearn.model_selection  import train_test_split\n",
    "from sklearn.cluster import KMeans\n",
    "#import sklearn.metrics\n",
    "\n",
    "tech_supp_df = pd.read_csv(\"C:/Users/Dell/OneDrive/Desktop/MCH LRN/unsupervised learning/tech support analysis/technical_support_data-1.csv\")\n",
    "tech_supp_df.dtypes"
   ]
  },
  {
   "cell_type": "code",
   "execution_count": 6,
   "metadata": {},
   "outputs": [],
   "source": [
    "import matplotlib.pyplot as plt\n"
   ]
  },
  {
   "cell_type": "markdown",
   "metadata": {
    "colab_type": "text",
    "id": "eW88bjuvqf5o"
   },
   "source": [
    "The dataset contains one record for each unique problem type. It has metrics for each type like count, average calls to resolve, average resolution time etc."
   ]
  },
  {
   "cell_type": "code",
   "execution_count": 7,
   "metadata": {
    "colab": {},
    "colab_type": "code",
    "id": "DFBxs9Syqf5q",
    "outputId": "bd72e031-6f39-4639-d5d0-152b50c38ffe"
   },
   "outputs": [
    {
     "data": {
      "text/html": [
       "<div>\n",
       "<style scoped>\n",
       "    .dataframe tbody tr th:only-of-type {\n",
       "        vertical-align: middle;\n",
       "    }\n",
       "\n",
       "    .dataframe tbody tr th {\n",
       "        vertical-align: top;\n",
       "    }\n",
       "\n",
       "    .dataframe thead th {\n",
       "        text-align: right;\n",
       "    }\n",
       "</style>\n",
       "<table border=\"1\" class=\"dataframe\">\n",
       "  <thead>\n",
       "    <tr style=\"text-align: right;\">\n",
       "      <th></th>\n",
       "      <th>PROBLEM_TYPE</th>\n",
       "      <th>no_of_cases</th>\n",
       "      <th>Avg_pending_calls</th>\n",
       "      <th>Avg_resol_time</th>\n",
       "      <th>recurrence_freq</th>\n",
       "      <th>Replace_percent</th>\n",
       "      <th>In_warranty_percent</th>\n",
       "      <th>Post_warranty_percent</th>\n",
       "    </tr>\n",
       "  </thead>\n",
       "  <tbody>\n",
       "    <tr>\n",
       "      <th>0</th>\n",
       "      <td>Temperature control not working</td>\n",
       "      <td>170</td>\n",
       "      <td>1.3</td>\n",
       "      <td>32</td>\n",
       "      <td>0.04</td>\n",
       "      <td>0.0</td>\n",
       "      <td>75</td>\n",
       "      <td>25</td>\n",
       "    </tr>\n",
       "    <tr>\n",
       "      <th>1</th>\n",
       "      <td>power chord does not tightly fit</td>\n",
       "      <td>12</td>\n",
       "      <td>2.0</td>\n",
       "      <td>150</td>\n",
       "      <td>0.01</td>\n",
       "      <td>0.5</td>\n",
       "      <td>5</td>\n",
       "      <td>95</td>\n",
       "    </tr>\n",
       "    <tr>\n",
       "      <th>2</th>\n",
       "      <td>Fan swing not working</td>\n",
       "      <td>5</td>\n",
       "      <td>1.0</td>\n",
       "      <td>35</td>\n",
       "      <td>0.02</td>\n",
       "      <td>0.2</td>\n",
       "      <td>90</td>\n",
       "      <td>10</td>\n",
       "    </tr>\n",
       "    <tr>\n",
       "      <th>3</th>\n",
       "      <td>Main switch does not on</td>\n",
       "      <td>3</td>\n",
       "      <td>2.0</td>\n",
       "      <td>8</td>\n",
       "      <td>0.01</td>\n",
       "      <td>0.7</td>\n",
       "      <td>5</td>\n",
       "      <td>95</td>\n",
       "    </tr>\n",
       "    <tr>\n",
       "      <th>4</th>\n",
       "      <td>Forgot mobile app password</td>\n",
       "      <td>45</td>\n",
       "      <td>2.3</td>\n",
       "      <td>54</td>\n",
       "      <td>0.15</td>\n",
       "      <td>0.0</td>\n",
       "      <td>99</td>\n",
       "      <td>1</td>\n",
       "    </tr>\n",
       "  </tbody>\n",
       "</table>\n",
       "</div>"
      ],
      "text/plain": [
       "                       PROBLEM_TYPE  no_of_cases  Avg_pending_calls  \\\n",
       "0   Temperature control not working          170                1.3   \n",
       "1  power chord does not tightly fit           12                2.0   \n",
       "2             Fan swing not working            5                1.0   \n",
       "3           Main switch does not on            3                2.0   \n",
       "4        Forgot mobile app password           45                2.3   \n",
       "\n",
       "   Avg_resol_time  recurrence_freq  Replace_percent  In_warranty_percent  \\\n",
       "0              32             0.04              0.0                   75   \n",
       "1             150             0.01              0.5                    5   \n",
       "2              35             0.02              0.2                   90   \n",
       "3               8             0.01              0.7                    5   \n",
       "4              54             0.15              0.0                   99   \n",
       "\n",
       "   Post_warranty_percent  \n",
       "0                     25  \n",
       "1                     95  \n",
       "2                     10  \n",
       "3                     95  \n",
       "4                      1  "
      ]
     },
     "execution_count": 7,
     "metadata": {},
     "output_type": "execute_result"
    }
   ],
   "source": [
    "tech_supp_df.head()"
   ]
  },
  {
   "cell_type": "code",
   "execution_count": 8,
   "metadata": {},
   "outputs": [
    {
     "data": {
      "text/html": [
       "<div>\n",
       "<style scoped>\n",
       "    .dataframe tbody tr th:only-of-type {\n",
       "        vertical-align: middle;\n",
       "    }\n",
       "\n",
       "    .dataframe tbody tr th {\n",
       "        vertical-align: top;\n",
       "    }\n",
       "\n",
       "    .dataframe thead th {\n",
       "        text-align: right;\n",
       "    }\n",
       "</style>\n",
       "<table border=\"1\" class=\"dataframe\">\n",
       "  <thead>\n",
       "    <tr style=\"text-align: right;\">\n",
       "      <th></th>\n",
       "      <th>no_of_cases</th>\n",
       "      <th>Avg_pending_calls</th>\n",
       "      <th>Avg_resol_time</th>\n",
       "      <th>recurrence_freq</th>\n",
       "      <th>Replace_percent</th>\n",
       "      <th>In_warranty_percent</th>\n",
       "      <th>Post_warranty_percent</th>\n",
       "      <th>PROBLEM_TYPE</th>\n",
       "    </tr>\n",
       "  </thead>\n",
       "  <tbody>\n",
       "    <tr>\n",
       "      <th>0</th>\n",
       "      <td>0.179429</td>\n",
       "      <td>-0.701207</td>\n",
       "      <td>-0.538351</td>\n",
       "      <td>-0.843188</td>\n",
       "      <td>-0.561463</td>\n",
       "      <td>0.138067</td>\n",
       "      <td>-0.138067</td>\n",
       "      <td>Temperature control not working</td>\n",
       "    </tr>\n",
       "    <tr>\n",
       "      <th>1</th>\n",
       "      <td>-0.862176</td>\n",
       "      <td>0.027143</td>\n",
       "      <td>1.510857</td>\n",
       "      <td>-1.101765</td>\n",
       "      <td>2.245854</td>\n",
       "      <td>-1.778204</td>\n",
       "      <td>1.778204</td>\n",
       "      <td>power chord does not tightly fit</td>\n",
       "    </tr>\n",
       "    <tr>\n",
       "      <th>2</th>\n",
       "      <td>-0.908323</td>\n",
       "      <td>-1.013357</td>\n",
       "      <td>-0.486253</td>\n",
       "      <td>-1.015573</td>\n",
       "      <td>0.561463</td>\n",
       "      <td>0.548696</td>\n",
       "      <td>-0.548696</td>\n",
       "      <td>Fan swing not working</td>\n",
       "    </tr>\n",
       "    <tr>\n",
       "      <th>3</th>\n",
       "      <td>-0.921508</td>\n",
       "      <td>0.027143</td>\n",
       "      <td>-0.955140</td>\n",
       "      <td>-1.101765</td>\n",
       "      <td>3.368781</td>\n",
       "      <td>-1.778204</td>\n",
       "      <td>1.778204</td>\n",
       "      <td>Main switch does not on</td>\n",
       "    </tr>\n",
       "    <tr>\n",
       "      <th>4</th>\n",
       "      <td>-0.644625</td>\n",
       "      <td>0.339294</td>\n",
       "      <td>-0.156296</td>\n",
       "      <td>0.104930</td>\n",
       "      <td>-0.561463</td>\n",
       "      <td>0.795074</td>\n",
       "      <td>-0.795074</td>\n",
       "      <td>Forgot mobile app password</td>\n",
       "    </tr>\n",
       "  </tbody>\n",
       "</table>\n",
       "</div>"
      ],
      "text/plain": [
       "   no_of_cases  Avg_pending_calls  Avg_resol_time  recurrence_freq  \\\n",
       "0     0.179429          -0.701207       -0.538351        -0.843188   \n",
       "1    -0.862176           0.027143        1.510857        -1.101765   \n",
       "2    -0.908323          -1.013357       -0.486253        -1.015573   \n",
       "3    -0.921508           0.027143       -0.955140        -1.101765   \n",
       "4    -0.644625           0.339294       -0.156296         0.104930   \n",
       "\n",
       "   Replace_percent  In_warranty_percent  Post_warranty_percent  \\\n",
       "0        -0.561463             0.138067              -0.138067   \n",
       "1         2.245854            -1.778204               1.778204   \n",
       "2         0.561463             0.548696              -0.548696   \n",
       "3         3.368781            -1.778204               1.778204   \n",
       "4        -0.561463             0.795074              -0.795074   \n",
       "\n",
       "                       PROBLEM_TYPE  \n",
       "0   Temperature control not working  \n",
       "1  power chord does not tightly fit  \n",
       "2             Fan swing not working  \n",
       "3           Main switch does not on  \n",
       "4        Forgot mobile app password  "
      ]
     },
     "execution_count": 8,
     "metadata": {},
     "output_type": "execute_result"
    }
   ],
   "source": [
    "from scipy.stats import zscore\n",
    "\n",
    "numeric_cols = tech_supp_df.drop('PROBLEM_TYPE', axis=1)\n",
    "\n",
    "Prob_type  = tech_supp_df.pop(\"PROBLEM_TYPE\")\n",
    "\n",
    "numeric_cols = numeric_cols.apply(zscore)\n",
    "\n",
    "tech_supp_df = numeric_cols.join(Prob_type)   \n",
    "\n",
    "tech_supp_df.head()"
   ]
  },
  {
   "cell_type": "markdown",
   "metadata": {
    "colab_type": "text",
    "id": "dbn46iRuqf5v"
   },
   "source": [
    "## Group Data into similar clusters\n",
    "\n",
    "Now, we will use K-Means clustering to group data based on their attribute. First, we need to determine the optimal number of groups. For that we conduct the knee test to see where the knee happens with the help of elbow method."
   ]
  },
  {
   "cell_type": "code",
   "execution_count": 9,
   "metadata": {
    "colab": {},
    "colab_type": "code",
    "id": "GJ_z7Buwqf5x",
    "outputId": "2fe63549-869d-419f-cd19-ff1242268b8b",
    "scrolled": true
   },
   "outputs": [
    {
     "name": "stderr",
     "output_type": "stream",
     "text": [
      "C:\\Users\\Dell\\anaconda3\\lib\\site-packages\\sklearn\\cluster\\_kmeans.py:881: UserWarning: KMeans is known to have a memory leak on Windows with MKL, when there are less chunks than available threads. You can avoid it by setting the environment variable OMP_NUM_THREADS=1.\n",
      "  warnings.warn(\n"
     ]
    },
    {
     "data": {
      "text/plain": [
       "Text(0.5, 1.0, 'Selecting k with the Elbow Method')"
      ]
     },
     "execution_count": 9,
     "metadata": {},
     "output_type": "execute_result"
    },
    {
     "data": {
      "image/png": "[encoded data removed]",
      "text/plain": [
       "<Figure size 432x288 with 1 Axes>"
      ]
     },
     "metadata": {
      "needs_background": "light"
     },
     "output_type": "display_data"
    }
   ],
   "source": [
    "tech_supp_attributes = tech_supp_df.drop(\"PROBLEM_TYPE\",axis=1)\n",
    "\n",
    "#Finding optimal no. of clusters\n",
    "from scipy.spatial.distance import cdist\n",
    "clusters=range(1,10)\n",
    "meanDistortions=[]\n",
    "\n",
    "for k in clusters:\n",
    "    model=KMeans(n_clusters=k)\n",
    "    model.fit(tech_supp_attributes)\n",
    "    prediction=model.predict(tech_supp_attributes)\n",
    "    meanDistortions.append(sum(np.min(cdist(tech_supp_attributes, model.cluster_centers_, 'euclidean'), axis=1)) / tech_supp_attributes.shape[0])\n",
    "\n",
    "\n",
    "plt.plot(clusters, meanDistortions, 'bx-')\n",
    "plt.xlabel('k')\n",
    "plt.ylabel('Average distortion')\n",
    "plt.title('Selecting k with the Elbow Method')"
   ]
  },
  {
   "cell_type": "markdown",
   "metadata": {
    "colab_type": "text",
    "id": "LeWqzIRNqf54"
   },
   "source": [
    "Though the bend is not coming out clearly as there are many bends, let us look at 2 clusters and 3 clusters"
   ]
  },
  {
   "cell_type": "code",
   "execution_count": 10,
   "metadata": {
    "colab": {},
    "colab_type": "code",
    "id": "EsP8_LBKqf56",
    "outputId": "1a8bd8e4-b729-46c8-dc27-3755c010ad56"
   },
   "outputs": [
    {
     "name": "stdout",
     "output_type": "stream",
     "text": [
      "Groups Assigned : \n",
      "\n"
     ]
    },
    {
     "data": {
      "text/html": [
       "<div>\n",
       "<style scoped>\n",
       "    .dataframe tbody tr th:only-of-type {\n",
       "        vertical-align: middle;\n",
       "    }\n",
       "\n",
       "    .dataframe tbody tr th {\n",
       "        vertical-align: top;\n",
       "    }\n",
       "\n",
       "    .dataframe thead th {\n",
       "        text-align: right;\n",
       "    }\n",
       "</style>\n",
       "<table border=\"1\" class=\"dataframe\">\n",
       "  <thead>\n",
       "    <tr style=\"text-align: right;\">\n",
       "      <th></th>\n",
       "      <th>PROBLEM_TYPE</th>\n",
       "      <th>GROUP</th>\n",
       "    </tr>\n",
       "  </thead>\n",
       "  <tbody>\n",
       "    <tr>\n",
       "      <th>0</th>\n",
       "      <td>Temperature control not working</td>\n",
       "      <td>1</td>\n",
       "    </tr>\n",
       "    <tr>\n",
       "      <th>1</th>\n",
       "      <td>power chord does not tightly fit</td>\n",
       "      <td>1</td>\n",
       "    </tr>\n",
       "    <tr>\n",
       "      <th>2</th>\n",
       "      <td>Fan swing not working</td>\n",
       "      <td>1</td>\n",
       "    </tr>\n",
       "    <tr>\n",
       "      <th>3</th>\n",
       "      <td>Main switch does not on</td>\n",
       "      <td>1</td>\n",
       "    </tr>\n",
       "    <tr>\n",
       "      <th>4</th>\n",
       "      <td>Forgot mobile app password</td>\n",
       "      <td>0</td>\n",
       "    </tr>\n",
       "    <tr>\n",
       "      <th>5</th>\n",
       "      <td>AC stops abruptly</td>\n",
       "      <td>0</td>\n",
       "    </tr>\n",
       "    <tr>\n",
       "      <th>6</th>\n",
       "      <td>App hangs while entring commands</td>\n",
       "      <td>0</td>\n",
       "    </tr>\n",
       "    <tr>\n",
       "      <th>7</th>\n",
       "      <td>App takes a long time to initialize</td>\n",
       "      <td>1</td>\n",
       "    </tr>\n",
       "    <tr>\n",
       "      <th>8</th>\n",
       "      <td>Unable to connect the App to the device</td>\n",
       "      <td>1</td>\n",
       "    </tr>\n",
       "    <tr>\n",
       "      <th>9</th>\n",
       "      <td>Reinstalling the app hangs the phone</td>\n",
       "      <td>0</td>\n",
       "    </tr>\n",
       "    <tr>\n",
       "      <th>10</th>\n",
       "      <td>Mobile screen blanks on use of phone</td>\n",
       "      <td>0</td>\n",
       "    </tr>\n",
       "    <tr>\n",
       "      <th>11</th>\n",
       "      <td>Cluttered with popup messages</td>\n",
       "      <td>1</td>\n",
       "    </tr>\n",
       "    <tr>\n",
       "      <th>12</th>\n",
       "      <td>AC controller sofware missing</td>\n",
       "      <td>1</td>\n",
       "    </tr>\n",
       "    <tr>\n",
       "      <th>13</th>\n",
       "      <td>AC remote does not  work</td>\n",
       "      <td>0</td>\n",
       "    </tr>\n",
       "    <tr>\n",
       "      <th>14</th>\n",
       "      <td>Remote Keys get stuck</td>\n",
       "      <td>1</td>\n",
       "    </tr>\n",
       "    <tr>\n",
       "      <th>15</th>\n",
       "      <td>Unable to operate menu from remote</td>\n",
       "      <td>1</td>\n",
       "    </tr>\n",
       "    <tr>\n",
       "      <th>16</th>\n",
       "      <td>Motor noise from the system</td>\n",
       "      <td>1</td>\n",
       "    </tr>\n",
       "    <tr>\n",
       "      <th>17</th>\n",
       "      <td>Freshner holder stuck</td>\n",
       "      <td>1</td>\n",
       "    </tr>\n",
       "    <tr>\n",
       "      <th>18</th>\n",
       "      <td>Factory settings not working</td>\n",
       "      <td>0</td>\n",
       "    </tr>\n",
       "    <tr>\n",
       "      <th>19</th>\n",
       "      <td>WIFI connectivity breaks</td>\n",
       "      <td>1</td>\n",
       "    </tr>\n",
       "    <tr>\n",
       "      <th>20</th>\n",
       "      <td>Battery backup does not get fully charged</td>\n",
       "      <td>1</td>\n",
       "    </tr>\n",
       "    <tr>\n",
       "      <th>21</th>\n",
       "      <td>Battery does not last full 8 hrs</td>\n",
       "      <td>1</td>\n",
       "    </tr>\n",
       "    <tr>\n",
       "      <th>22</th>\n",
       "      <td>Fan speed varies at on its own</td>\n",
       "      <td>1</td>\n",
       "    </tr>\n",
       "  </tbody>\n",
       "</table>\n",
       "</div>"
      ],
      "text/plain": [
       "                                 PROBLEM_TYPE  GROUP\n",
       "0             Temperature control not working      1\n",
       "1            power chord does not tightly fit      1\n",
       "2                       Fan swing not working      1\n",
       "3                     Main switch does not on      1\n",
       "4                  Forgot mobile app password      0\n",
       "5                           AC stops abruptly      0\n",
       "6            App hangs while entring commands      0\n",
       "7         App takes a long time to initialize      1\n",
       "8     Unable to connect the App to the device      1\n",
       "9        Reinstalling the app hangs the phone      0\n",
       "10       Mobile screen blanks on use of phone      0\n",
       "11              Cluttered with popup messages      1\n",
       "12              AC controller sofware missing      1\n",
       "13                   AC remote does not  work      0\n",
       "14                     Remote Keys get stuck       1\n",
       "15         Unable to operate menu from remote      1\n",
       "16               Motor noise from the system       1\n",
       "17                     Freshner holder stuck       1\n",
       "18               Factory settings not working      0\n",
       "19                  WIFI connectivity breaks       1\n",
       "20  Battery backup does not get fully charged      1\n",
       "21           Battery does not last full 8 hrs      1\n",
       "22             Fan speed varies at on its own      1"
      ]
     },
     "execution_count": 10,
     "metadata": {},
     "output_type": "execute_result"
    }
   ],
   "source": [
    "# Let us first start with K = 2\n",
    "final_model=KMeans(2)\n",
    "final_model.fit(tech_supp_attributes)\n",
    "prediction=final_model.predict(tech_supp_attributes)\n",
    "\n",
    "#Append the prediction \n",
    "tech_supp_df[\"GROUP\"] = prediction\n",
    "print(\"Groups Assigned : \\n\")\n",
    "tech_supp_df[[\"PROBLEM_TYPE\", \"GROUP\"]]"
   ]
  },
  {
   "cell_type": "code",
   "execution_count": 11,
   "metadata": {},
   "outputs": [
    {
     "data": {
      "text/plain": [
       "array([[-0.7105498 ,  1.23115099,  1.20818948, -0.10439466, -0.44114987,\n",
       "         0.79898435, -0.79898435],\n",
       "       [ 0.31086554, -0.53862856, -0.5285829 ,  0.04567266,  0.19300307,\n",
       "        -0.34955565,  0.34955565]])"
      ]
     },
     "execution_count": 11,
     "metadata": {},
     "output_type": "execute_result"
    }
   ],
   "source": [
    "final_model.cluster_centers_"
   ]
  },
  {
   "cell_type": "code",
   "execution_count": 12,
   "metadata": {},
   "outputs": [
    {
     "data": {
      "text/plain": [
       "array([1, 0])"
      ]
     },
     "execution_count": 12,
     "metadata": {},
     "output_type": "execute_result"
    }
   ],
   "source": [
    "tech_supp_df['GROUP'].unique()"
   ]
  },
  {
   "cell_type": "markdown",
   "metadata": {
    "colab_type": "text",
    "id": "ck4XGXSjqf6C"
   },
   "source": [
    "Analyze the distribution of the data among the two groups (K = 2). One of the most informative visual tool is boxplot.\n"
   ]
  },
  {
   "cell_type": "code",
   "execution_count": 13,
   "metadata": {
    "colab": {},
    "colab_type": "code",
    "id": "QzlZMEEaqf6E",
    "outputId": "920d7ccb-5c96-4c35-e601-94e64e55e1da"
   },
   "outputs": [
    {
     "data": {
      "text/plain": [
       "array([[<AxesSubplot:title={'center':'Avg_pending_calls'}, xlabel='[GROUP]'>,\n",
       "        <AxesSubplot:title={'center':'Avg_resol_time'}, xlabel='[GROUP]'>,\n",
       "        <AxesSubplot:title={'center':'In_warranty_percent'}, xlabel='[GROUP]'>,\n",
       "        <AxesSubplot:title={'center':'Post_warranty_percent'}, xlabel='[GROUP]'>],\n",
       "       [<AxesSubplot:title={'center':'Replace_percent'}, xlabel='[GROUP]'>,\n",
       "        <AxesSubplot:title={'center':'no_of_cases'}, xlabel='[GROUP]'>,\n",
       "        <AxesSubplot:title={'center':'recurrence_freq'}, xlabel='[GROUP]'>,\n",
       "        <AxesSubplot:>]], dtype=object)"
      ]
     },
     "execution_count": 13,
     "metadata": {},
     "output_type": "execute_result"
    },
    {
     "data": {
      "image/png": "[encoded data removed]",
      "text/plain": [
       "<Figure size 1080x720 with 8 Axes>"
      ]
     },
     "metadata": {
      "needs_background": "light"
     },
     "output_type": "display_data"
    }
   ],
   "source": [
    "tech_supp_df.boxplot(by = 'GROUP',  layout=(2,4), figsize=(15, 10))"
   ]
  },
  {
   "cell_type": "code",
   "execution_count": 14,
   "metadata": {
    "colab": {},
    "colab_type": "code",
    "id": "CqpJwcybqf6M"
   },
   "outputs": [],
   "source": [
    "# The K = 2 boxplot clearly shows outliers in group 1. Indicating that the group 1 is stretched\n",
    "# indicating probability of another cluster. Let us try with K = 3, the next elbow point"
   ]
  },
  {
   "cell_type": "code",
   "execution_count": 15,
   "metadata": {
    "colab": {},
    "colab_type": "code",
    "id": "HsmQzYLzqf6T",
    "outputId": "d8faa25b-43a2-4783-db03-159c30f90cbd"
   },
   "outputs": [
    {
     "name": "stdout",
     "output_type": "stream",
     "text": [
      "Groups Assigned : \n",
      "\n"
     ]
    },
    {
     "data": {
      "text/html": [
       "<div>\n",
       "<style scoped>\n",
       "    .dataframe tbody tr th:only-of-type {\n",
       "        vertical-align: middle;\n",
       "    }\n",
       "\n",
       "    .dataframe tbody tr th {\n",
       "        vertical-align: top;\n",
       "    }\n",
       "\n",
       "    .dataframe thead th {\n",
       "        text-align: right;\n",
       "    }\n",
       "</style>\n",
       "<table border=\"1\" class=\"dataframe\">\n",
       "  <thead>\n",
       "    <tr style=\"text-align: right;\">\n",
       "      <th></th>\n",
       "      <th>PROBLEM_TYPE</th>\n",
       "      <th>GROUP</th>\n",
       "    </tr>\n",
       "  </thead>\n",
       "  <tbody>\n",
       "    <tr>\n",
       "      <th>0</th>\n",
       "      <td>Temperature control not working</td>\n",
       "      <td>0</td>\n",
       "    </tr>\n",
       "    <tr>\n",
       "      <th>1</th>\n",
       "      <td>power chord does not tightly fit</td>\n",
       "      <td>2</td>\n",
       "    </tr>\n",
       "    <tr>\n",
       "      <th>2</th>\n",
       "      <td>Fan swing not working</td>\n",
       "      <td>0</td>\n",
       "    </tr>\n",
       "    <tr>\n",
       "      <th>3</th>\n",
       "      <td>Main switch does not on</td>\n",
       "      <td>2</td>\n",
       "    </tr>\n",
       "    <tr>\n",
       "      <th>4</th>\n",
       "      <td>Forgot mobile app password</td>\n",
       "      <td>1</td>\n",
       "    </tr>\n",
       "    <tr>\n",
       "      <th>5</th>\n",
       "      <td>AC stops abruptly</td>\n",
       "      <td>1</td>\n",
       "    </tr>\n",
       "    <tr>\n",
       "      <th>6</th>\n",
       "      <td>App hangs while entring commands</td>\n",
       "      <td>1</td>\n",
       "    </tr>\n",
       "    <tr>\n",
       "      <th>7</th>\n",
       "      <td>App takes a long time to initialize</td>\n",
       "      <td>0</td>\n",
       "    </tr>\n",
       "    <tr>\n",
       "      <th>8</th>\n",
       "      <td>Unable to connect the App to the device</td>\n",
       "      <td>0</td>\n",
       "    </tr>\n",
       "    <tr>\n",
       "      <th>9</th>\n",
       "      <td>Reinstalling the app hangs the phone</td>\n",
       "      <td>1</td>\n",
       "    </tr>\n",
       "    <tr>\n",
       "      <th>10</th>\n",
       "      <td>Mobile screen blanks on use of phone</td>\n",
       "      <td>1</td>\n",
       "    </tr>\n",
       "    <tr>\n",
       "      <th>11</th>\n",
       "      <td>Cluttered with popup messages</td>\n",
       "      <td>3</td>\n",
       "    </tr>\n",
       "    <tr>\n",
       "      <th>12</th>\n",
       "      <td>AC controller sofware missing</td>\n",
       "      <td>0</td>\n",
       "    </tr>\n",
       "    <tr>\n",
       "      <th>13</th>\n",
       "      <td>AC remote does not  work</td>\n",
       "      <td>1</td>\n",
       "    </tr>\n",
       "    <tr>\n",
       "      <th>14</th>\n",
       "      <td>Remote Keys get stuck</td>\n",
       "      <td>0</td>\n",
       "    </tr>\n",
       "    <tr>\n",
       "      <th>15</th>\n",
       "      <td>Unable to operate menu from remote</td>\n",
       "      <td>0</td>\n",
       "    </tr>\n",
       "    <tr>\n",
       "      <th>16</th>\n",
       "      <td>Motor noise from the system</td>\n",
       "      <td>3</td>\n",
       "    </tr>\n",
       "    <tr>\n",
       "      <th>17</th>\n",
       "      <td>Freshner holder stuck</td>\n",
       "      <td>0</td>\n",
       "    </tr>\n",
       "    <tr>\n",
       "      <th>18</th>\n",
       "      <td>Factory settings not working</td>\n",
       "      <td>1</td>\n",
       "    </tr>\n",
       "    <tr>\n",
       "      <th>19</th>\n",
       "      <td>WIFI connectivity breaks</td>\n",
       "      <td>0</td>\n",
       "    </tr>\n",
       "    <tr>\n",
       "      <th>20</th>\n",
       "      <td>Battery backup does not get fully charged</td>\n",
       "      <td>3</td>\n",
       "    </tr>\n",
       "    <tr>\n",
       "      <th>21</th>\n",
       "      <td>Battery does not last full 8 hrs</td>\n",
       "      <td>3</td>\n",
       "    </tr>\n",
       "    <tr>\n",
       "      <th>22</th>\n",
       "      <td>Fan speed varies at on its own</td>\n",
       "      <td>3</td>\n",
       "    </tr>\n",
       "  </tbody>\n",
       "</table>\n",
       "</div>"
      ],
      "text/plain": [
       "                                 PROBLEM_TYPE  GROUP\n",
       "0             Temperature control not working      0\n",
       "1            power chord does not tightly fit      2\n",
       "2                       Fan swing not working      0\n",
       "3                     Main switch does not on      2\n",
       "4                  Forgot mobile app password      1\n",
       "5                           AC stops abruptly      1\n",
       "6            App hangs while entring commands      1\n",
       "7         App takes a long time to initialize      0\n",
       "8     Unable to connect the App to the device      0\n",
       "9        Reinstalling the app hangs the phone      1\n",
       "10       Mobile screen blanks on use of phone      1\n",
       "11              Cluttered with popup messages      3\n",
       "12              AC controller sofware missing      0\n",
       "13                   AC remote does not  work      1\n",
       "14                     Remote Keys get stuck       0\n",
       "15         Unable to operate menu from remote      0\n",
       "16               Motor noise from the system       3\n",
       "17                     Freshner holder stuck       0\n",
       "18               Factory settings not working      1\n",
       "19                  WIFI connectivity breaks       0\n",
       "20  Battery backup does not get fully charged      3\n",
       "21           Battery does not last full 8 hrs      3\n",
       "22             Fan speed varies at on its own      3"
      ]
     },
     "execution_count": 15,
     "metadata": {},
     "output_type": "execute_result"
    }
   ],
   "source": [
    "# Let us first start with K = 3\n",
    "final_model=KMeans(4)\n",
    "final_model.fit(tech_supp_attributes)\n",
    "prediction=final_model.predict(tech_supp_attributes)\n",
    "\n",
    "#Append the prediction \n",
    "tech_supp_df[\"GROUP\"] = prediction\n",
    "print(\"Groups Assigned : \\n\")\n",
    "tech_supp_df[[\"PROBLEM_TYPE\", \"GROUP\"]]"
   ]
  },
  {
   "cell_type": "code",
   "execution_count": 16,
   "metadata": {
    "colab": {},
    "colab_type": "code",
    "id": "86Ypg_PHqf6a",
    "outputId": "2753099c-25b9-4e1d-be5f-fe9685ca6b7a"
   },
   "outputs": [
    {
     "data": {
      "text/plain": [
       "array([[<AxesSubplot:title={'center':'Avg_pending_calls'}, xlabel='[GROUP]'>,\n",
       "        <AxesSubplot:title={'center':'Avg_resol_time'}, xlabel='[GROUP]'>,\n",
       "        <AxesSubplot:title={'center':'In_warranty_percent'}, xlabel='[GROUP]'>,\n",
       "        <AxesSubplot:title={'center':'Post_warranty_percent'}, xlabel='[GROUP]'>],\n",
       "       [<AxesSubplot:title={'center':'Replace_percent'}, xlabel='[GROUP]'>,\n",
       "        <AxesSubplot:title={'center':'no_of_cases'}, xlabel='[GROUP]'>,\n",
       "        <AxesSubplot:title={'center':'recurrence_freq'}, xlabel='[GROUP]'>,\n",
       "        <AxesSubplot:>]], dtype=object)"
      ]
     },
     "execution_count": 16,
     "metadata": {},
     "output_type": "execute_result"
    },
    {
     "data": {
      "image/png": "[encoded data removed]",
      "text/plain": [
       "<Figure size 1080x720 with 8 Axes>"
      ]
     },
     "metadata": {
      "needs_background": "light"
     },
     "output_type": "display_data"
    }
   ],
   "source": [
    "tech_supp_df.boxplot(by = 'GROUP',  layout=(2,4), figsize=(15, 10))"
   ]
  },
  {
   "cell_type": "code",
   "execution_count": 17,
   "metadata": {
    "colab": {},
    "colab_type": "code",
    "id": "n5r5SRDgqf6f"
   },
   "outputs": [],
   "source": [
    "#Analyzing in terms of k = 3 seems to give a better segregation of the technical support tickets than K=2. \n",
    "#The boxes are tighter indicating the spread of data is much less in K = 3 than in K = 2 and there are no outliers!"
   ]
  },
  {
   "cell_type": "markdown",
   "metadata": {
    "colab_type": "text",
    "collapsed": true,
    "id": "j1TZBQK9qf6q"
   },
   "source": [
    "From the box plot it is clear that technical issues belonging to group 0 and 1 take much less time to resolve and hence not so many pending calls even though they are most frequently occuring tech support issues (box plot 1) \n",
    "\n",
    "The group 0 and 2 may be most frequently reported issues and take less time to resolve but then do they re-occur i.e. same person reports those issues multiple times and hence the count is high (box plot 6)?"
   ]
  },
  {
   "cell_type": "markdown",
   "metadata": {
    "colab_type": "text",
    "id": "nw4vQlDAqf60"
   },
   "source": [
    "Group 2 technical issues are reported higer in count but most of it is reoccuring!!! Simple to solve issues but re-occur frequently indicating opportunity for quality improvement. This report needs to be brought to the notice of the engineering dept.\n",
    "\n",
    "Whereas group 1, not so frequently occuring as group 2 and Group 1 has a small percentage of reoccuring cases. "
   ]
  },
  {
   "cell_type": "code",
   "execution_count": 18,
   "metadata": {
    "colab": {},
    "colab_type": "code",
    "id": "4mzALOQiqf7c"
   },
   "outputs": [],
   "source": [
    "# Average resolution time distribution across the three clusters reflects the same information as avg pending cases.\n",
    "\n",
    "# In view of this analysis, one can think of providing self help facilities to the customer for group 2 and group 3 issues\n",
    "# Even a chat facility or helpline number may bring down these issues and also customer is likely to feel good\n",
    "# with immediate help and resolution.\n",
    "# One may even consider automating the ticket resolutions....\n"
   ]
  },
  {
   "cell_type": "code",
   "execution_count": null,
   "metadata": {},
   "outputs": [],
   "source": []
  }
 ],
 "metadata": {
  "colab": {
   "name": "tech_supp_analysis.ipynb",
   "provenance": [],
   "version": "0.3.2"
  },
  "kernelspec": {
   "display_name": "Python 3 (ipykernel)",
   "language": "python",
   "name": "python3"
  },
  "language_info": {
   "codemirror_mode": {
    "name": "ipython",
    "version": 3
   },
   "file_extension": ".py",
   "mimetype": "text/x-python",
   "name": "python",
   "nbconvert_exporter": "python",
   "pygments_lexer": "ipython3",
   "version": "3.9.7"
  }
 },
 "nbformat": 4,
 "nbformat_minor": 1
}
